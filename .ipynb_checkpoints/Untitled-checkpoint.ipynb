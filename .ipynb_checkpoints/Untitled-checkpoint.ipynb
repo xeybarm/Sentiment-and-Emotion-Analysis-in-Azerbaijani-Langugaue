{
 "cells": [
  {
   "cell_type": "code",
   "execution_count": 1,
   "metadata": {
    "scrolled": true
   },
   "outputs": [],
   "source": [
    "import pandas as pd\n",
    "import numpy as np\n",
    "\n",
    "from sklearn.model_selection import train_test_split\n",
    "from sklearn.feature_extraction.text import CountVectorizer\n",
    "from sklearn.svm import LinearSVC\n",
    "from sklearn import metrics\n",
    "from sklearn.neural_network import MLPClassifier\n",
    "\n",
    "import pickle\n",
    "import tkinter as tk\n",
    "from tkinter import ttk\n",
    "from tkinter import messagebox\n",
    "\n",
    "vectorizer = CountVectorizer() "
   ]
  },
  {
   "cell_type": "code",
   "execution_count": 2,
   "metadata": {
    "scrolled": true
   },
   "outputs": [
    {
     "name": "stderr",
     "output_type": "stream",
     "text": [
      "C:\\Users\\Owner\\anaconda3\\lib\\site-packages\\IPython\\core\\interactiveshell.py:3071: DtypeWarning: Columns (2) have mixed types.Specify dtype option on import or set low_memory=False.\n",
      "  has_raised = await self.run_ast_nodes(code_ast.body, cell_name,\n"
     ]
    },
    {
     "name": "stdout",
     "output_type": "stream",
     "text": [
      "<class 'numpy.ndarray'>\n",
      "<class 'numpy.ndarray'>\n"
     ]
    },
    {
     "data": {
      "text/plain": [
       "array([['negative'],\n",
       "       ['negative'],\n",
       "       ['negative'],\n",
       "       ...,\n",
       "       ['positive'],\n",
       "       ['positive'],\n",
       "       ['positive']], dtype='<U8')"
      ]
     },
     "execution_count": 2,
     "metadata": {},
     "output_type": "execute_result"
    }
   ],
   "source": [
    "news1 = pd.read_csv(\"1-8000.csv\")\n",
    "neg1 = news1[news1.label == 'neg']\n",
    "pos1 = news1[news1.label == 'pos']\n",
    "\n",
    "news2 = pd.read_csv(\"8001-end.csv\")\n",
    "neg2 = news2[news2.mlabel == 'neg']\n",
    "pos2 = news2[news2.mlabel == 'pos']\n",
    "\n",
    "news3 = pd.read_csv(\"all_final.csv\")\n",
    "neg3 = news3[news3.V2 == 'neg']\n",
    "pos3 = news3[news3.V2 == 'pos']\n",
    "neut=news3[news3.V2 == 'neut']\n",
    "\n",
    "negative = list(neg1.content) + list(neg2.content) + list(neg3.V1)\n",
    "positive = list(pos1.content) + list(pos2.content) + list(pos3.V1)\n",
    "\n",
    "mylist1 = list(dict.fromkeys(negative))\n",
    "mylist2 = list(dict.fromkeys(positive))\n",
    "\n",
    "neglabels = ['negative' for l in range(len(mylist1))]\n",
    "poslabels = ['positive' for l in range(len(mylist2))]\n",
    "\n",
    "news = mylist1 + mylist2\n",
    "labels = neglabels + poslabels\n",
    "\n",
    "news=np.array(news)\n",
    "labels=np.array(labels)\n",
    "\n",
    "print(type(news))\n",
    "print(type(labels))\n",
    "train_corpus, test_corpus, train_labels, test_labels = train_test_split(news, labels,test_size=0.2)\n",
    "\n",
    "labels.reshape(-1,1)"
   ]
  },
  {
   "cell_type": "code",
   "execution_count": 3,
   "metadata": {
    "scrolled": true
   },
   "outputs": [],
   "source": [
    "vectorized_train = vectorizer.fit_transform(train_corpus)\n",
    "vectorized_test = vectorizer.transform(test_corpus)"
   ]
  },
  {
   "cell_type": "code",
   "execution_count": 4,
   "metadata": {
    "scrolled": true
   },
   "outputs": [
    {
     "data": {
      "text/plain": [
       "(2485, 95656)"
      ]
     },
     "execution_count": 4,
     "metadata": {},
     "output_type": "execute_result"
    }
   ],
   "source": [
    "vectorized_test.shape"
   ]
  },
  {
   "cell_type": "code",
   "execution_count": null,
   "metadata": {
    "scrolled": true
   },
   "outputs": [],
   "source": [
    "mlp=MLPClassifier()\n",
    "mlp.fit(vectorized_train,train_labels)"
   ]
  },
  {
   "cell_type": "code",
   "execution_count": 6,
   "metadata": {
    "scrolled": true
   },
   "outputs": [],
   "source": [
    "with open('model.pickle', 'wb') as f:\n",
    "    pickle.dump(mlp, f)\n",
    "    \n",
    "with open('vectorizer.pickle', 'wb') as f:\n",
    "    pickle.dump(vectorizer, f)"
   ]
  },
  {
   "cell_type": "code",
   "execution_count": 6,
   "metadata": {
    "scrolled": true
   },
   "outputs": [
    {
     "ename": "ValueError",
     "evalue": "dimension mismatch",
     "output_type": "error",
     "traceback": [
      "\u001b[1;31m---------------------------------------------------------------------------\u001b[0m",
      "\u001b[1;31mValueError\u001b[0m                                Traceback (most recent call last)",
      "\u001b[1;32m<ipython-input-6-76eeb366456e>\u001b[0m in \u001b[0;36m<module>\u001b[1;34m\u001b[0m\n\u001b[0;32m      5\u001b[0m     \u001b[0mvectorizer\u001b[0m \u001b[1;33m=\u001b[0m \u001b[0mpickle\u001b[0m\u001b[1;33m.\u001b[0m\u001b[0mload\u001b[0m\u001b[1;33m(\u001b[0m\u001b[0mf\u001b[0m\u001b[1;33m)\u001b[0m\u001b[1;33m\u001b[0m\u001b[1;33m\u001b[0m\u001b[0m\n\u001b[0;32m      6\u001b[0m \u001b[1;33m\u001b[0m\u001b[0m\n\u001b[1;32m----> 7\u001b[1;33m \u001b[0mpredictions\u001b[0m\u001b[1;33m=\u001b[0m\u001b[0mmlp\u001b[0m\u001b[1;33m.\u001b[0m\u001b[0mpredict\u001b[0m\u001b[1;33m(\u001b[0m\u001b[0mvectorized_test\u001b[0m\u001b[1;33m)\u001b[0m\u001b[1;33m\u001b[0m\u001b[1;33m\u001b[0m\u001b[0m\n\u001b[0m\u001b[0;32m      8\u001b[0m \u001b[0ml\u001b[0m \u001b[1;33m=\u001b[0m \u001b[0msorted\u001b[0m\u001b[1;33m(\u001b[0m\u001b[0mset\u001b[0m\u001b[1;33m(\u001b[0m\u001b[0mlabels\u001b[0m\u001b[1;33m)\u001b[0m\u001b[1;33m)\u001b[0m\u001b[1;33m\u001b[0m\u001b[1;33m\u001b[0m\u001b[0m\n\u001b[0;32m      9\u001b[0m \u001b[0mprint\u001b[0m\u001b[1;33m(\u001b[0m\u001b[1;34m'Accuracy'\u001b[0m\u001b[1;33m)\u001b[0m\u001b[1;33m\u001b[0m\u001b[1;33m\u001b[0m\u001b[0m\n",
      "\u001b[1;32mC:\\ProgramData\\Anaconda3\\lib\\site-packages\\sklearn\\neural_network\\_multilayer_perceptron.py\u001b[0m in \u001b[0;36mpredict\u001b[1;34m(self, X)\u001b[0m\n\u001b[0;32m   1002\u001b[0m         \"\"\"\n\u001b[0;32m   1003\u001b[0m         \u001b[0mcheck_is_fitted\u001b[0m\u001b[1;33m(\u001b[0m\u001b[0mself\u001b[0m\u001b[1;33m)\u001b[0m\u001b[1;33m\u001b[0m\u001b[1;33m\u001b[0m\u001b[0m\n\u001b[1;32m-> 1004\u001b[1;33m         \u001b[0my_pred\u001b[0m \u001b[1;33m=\u001b[0m \u001b[0mself\u001b[0m\u001b[1;33m.\u001b[0m\u001b[0m_predict\u001b[0m\u001b[1;33m(\u001b[0m\u001b[0mX\u001b[0m\u001b[1;33m)\u001b[0m\u001b[1;33m\u001b[0m\u001b[1;33m\u001b[0m\u001b[0m\n\u001b[0m\u001b[0;32m   1005\u001b[0m \u001b[1;33m\u001b[0m\u001b[0m\n\u001b[0;32m   1006\u001b[0m         \u001b[1;32mif\u001b[0m \u001b[0mself\u001b[0m\u001b[1;33m.\u001b[0m\u001b[0mn_outputs_\u001b[0m \u001b[1;33m==\u001b[0m \u001b[1;36m1\u001b[0m\u001b[1;33m:\u001b[0m\u001b[1;33m\u001b[0m\u001b[1;33m\u001b[0m\u001b[0m\n",
      "\u001b[1;32mC:\\ProgramData\\Anaconda3\\lib\\site-packages\\sklearn\\neural_network\\_multilayer_perceptron.py\u001b[0m in \u001b[0;36m_predict\u001b[1;34m(self, X)\u001b[0m\n\u001b[0;32m    697\u001b[0m                                          layer_units[i + 1])))\n\u001b[0;32m    698\u001b[0m         \u001b[1;31m# forward propagate\u001b[0m\u001b[1;33m\u001b[0m\u001b[1;33m\u001b[0m\u001b[1;33m\u001b[0m\u001b[0m\n\u001b[1;32m--> 699\u001b[1;33m         \u001b[0mself\u001b[0m\u001b[1;33m.\u001b[0m\u001b[0m_forward_pass\u001b[0m\u001b[1;33m(\u001b[0m\u001b[0mactivations\u001b[0m\u001b[1;33m)\u001b[0m\u001b[1;33m\u001b[0m\u001b[1;33m\u001b[0m\u001b[0m\n\u001b[0m\u001b[0;32m    700\u001b[0m         \u001b[0my_pred\u001b[0m \u001b[1;33m=\u001b[0m \u001b[0mactivations\u001b[0m\u001b[1;33m[\u001b[0m\u001b[1;33m-\u001b[0m\u001b[1;36m1\u001b[0m\u001b[1;33m]\u001b[0m\u001b[1;33m\u001b[0m\u001b[1;33m\u001b[0m\u001b[0m\n\u001b[0;32m    701\u001b[0m \u001b[1;33m\u001b[0m\u001b[0m\n",
      "\u001b[1;32mC:\\ProgramData\\Anaconda3\\lib\\site-packages\\sklearn\\neural_network\\_multilayer_perceptron.py\u001b[0m in \u001b[0;36m_forward_pass\u001b[1;34m(self, activations)\u001b[0m\n\u001b[0;32m    102\u001b[0m         \u001b[1;31m# Iterate over the hidden layers\u001b[0m\u001b[1;33m\u001b[0m\u001b[1;33m\u001b[0m\u001b[1;33m\u001b[0m\u001b[0m\n\u001b[0;32m    103\u001b[0m         \u001b[1;32mfor\u001b[0m \u001b[0mi\u001b[0m \u001b[1;32min\u001b[0m \u001b[0mrange\u001b[0m\u001b[1;33m(\u001b[0m\u001b[0mself\u001b[0m\u001b[1;33m.\u001b[0m\u001b[0mn_layers_\u001b[0m \u001b[1;33m-\u001b[0m \u001b[1;36m1\u001b[0m\u001b[1;33m)\u001b[0m\u001b[1;33m:\u001b[0m\u001b[1;33m\u001b[0m\u001b[1;33m\u001b[0m\u001b[0m\n\u001b[1;32m--> 104\u001b[1;33m             activations[i + 1] = safe_sparse_dot(activations[i],\n\u001b[0m\u001b[0;32m    105\u001b[0m                                                  self.coefs_[i])\n\u001b[0;32m    106\u001b[0m             \u001b[0mactivations\u001b[0m\u001b[1;33m[\u001b[0m\u001b[0mi\u001b[0m \u001b[1;33m+\u001b[0m \u001b[1;36m1\u001b[0m\u001b[1;33m]\u001b[0m \u001b[1;33m+=\u001b[0m \u001b[0mself\u001b[0m\u001b[1;33m.\u001b[0m\u001b[0mintercepts_\u001b[0m\u001b[1;33m[\u001b[0m\u001b[0mi\u001b[0m\u001b[1;33m]\u001b[0m\u001b[1;33m\u001b[0m\u001b[1;33m\u001b[0m\u001b[0m\n",
      "\u001b[1;32mC:\\ProgramData\\Anaconda3\\lib\\site-packages\\sklearn\\utils\\validation.py\u001b[0m in \u001b[0;36minner_f\u001b[1;34m(*args, **kwargs)\u001b[0m\n\u001b[0;32m     70\u001b[0m                           FutureWarning)\n\u001b[0;32m     71\u001b[0m         \u001b[0mkwargs\u001b[0m\u001b[1;33m.\u001b[0m\u001b[0mupdate\u001b[0m\u001b[1;33m(\u001b[0m\u001b[1;33m{\u001b[0m\u001b[0mk\u001b[0m\u001b[1;33m:\u001b[0m \u001b[0marg\u001b[0m \u001b[1;32mfor\u001b[0m \u001b[0mk\u001b[0m\u001b[1;33m,\u001b[0m \u001b[0marg\u001b[0m \u001b[1;32min\u001b[0m \u001b[0mzip\u001b[0m\u001b[1;33m(\u001b[0m\u001b[0msig\u001b[0m\u001b[1;33m.\u001b[0m\u001b[0mparameters\u001b[0m\u001b[1;33m,\u001b[0m \u001b[0margs\u001b[0m\u001b[1;33m)\u001b[0m\u001b[1;33m}\u001b[0m\u001b[1;33m)\u001b[0m\u001b[1;33m\u001b[0m\u001b[1;33m\u001b[0m\u001b[0m\n\u001b[1;32m---> 72\u001b[1;33m         \u001b[1;32mreturn\u001b[0m \u001b[0mf\u001b[0m\u001b[1;33m(\u001b[0m\u001b[1;33m**\u001b[0m\u001b[0mkwargs\u001b[0m\u001b[1;33m)\u001b[0m\u001b[1;33m\u001b[0m\u001b[1;33m\u001b[0m\u001b[0m\n\u001b[0m\u001b[0;32m     73\u001b[0m     \u001b[1;32mreturn\u001b[0m \u001b[0minner_f\u001b[0m\u001b[1;33m\u001b[0m\u001b[1;33m\u001b[0m\u001b[0m\n\u001b[0;32m     74\u001b[0m \u001b[1;33m\u001b[0m\u001b[0m\n",
      "\u001b[1;32mC:\\ProgramData\\Anaconda3\\lib\\site-packages\\sklearn\\utils\\extmath.py\u001b[0m in \u001b[0;36msafe_sparse_dot\u001b[1;34m(a, b, dense_output)\u001b[0m\n\u001b[0;32m    151\u001b[0m             \u001b[0mret\u001b[0m \u001b[1;33m=\u001b[0m \u001b[0mnp\u001b[0m\u001b[1;33m.\u001b[0m\u001b[0mdot\u001b[0m\u001b[1;33m(\u001b[0m\u001b[0ma\u001b[0m\u001b[1;33m,\u001b[0m \u001b[0mb\u001b[0m\u001b[1;33m)\u001b[0m\u001b[1;33m\u001b[0m\u001b[1;33m\u001b[0m\u001b[0m\n\u001b[0;32m    152\u001b[0m     \u001b[1;32melse\u001b[0m\u001b[1;33m:\u001b[0m\u001b[1;33m\u001b[0m\u001b[1;33m\u001b[0m\u001b[0m\n\u001b[1;32m--> 153\u001b[1;33m         \u001b[0mret\u001b[0m \u001b[1;33m=\u001b[0m \u001b[0ma\u001b[0m \u001b[1;33m@\u001b[0m \u001b[0mb\u001b[0m\u001b[1;33m\u001b[0m\u001b[1;33m\u001b[0m\u001b[0m\n\u001b[0m\u001b[0;32m    154\u001b[0m \u001b[1;33m\u001b[0m\u001b[0m\n\u001b[0;32m    155\u001b[0m     if (sparse.issparse(a) and sparse.issparse(b)\n",
      "\u001b[1;32mC:\\ProgramData\\Anaconda3\\lib\\site-packages\\scipy\\sparse\\base.py\u001b[0m in \u001b[0;36m__matmul__\u001b[1;34m(self, other)\u001b[0m\n\u001b[0;32m    558\u001b[0m             raise ValueError(\"Scalar operands are not allowed, \"\n\u001b[0;32m    559\u001b[0m                              \"use '*' instead\")\n\u001b[1;32m--> 560\u001b[1;33m         \u001b[1;32mreturn\u001b[0m \u001b[0mself\u001b[0m\u001b[1;33m.\u001b[0m\u001b[0m__mul__\u001b[0m\u001b[1;33m(\u001b[0m\u001b[0mother\u001b[0m\u001b[1;33m)\u001b[0m\u001b[1;33m\u001b[0m\u001b[1;33m\u001b[0m\u001b[0m\n\u001b[0m\u001b[0;32m    561\u001b[0m \u001b[1;33m\u001b[0m\u001b[0m\n\u001b[0;32m    562\u001b[0m     \u001b[1;32mdef\u001b[0m \u001b[0m__rmatmul__\u001b[0m\u001b[1;33m(\u001b[0m\u001b[0mself\u001b[0m\u001b[1;33m,\u001b[0m \u001b[0mother\u001b[0m\u001b[1;33m)\u001b[0m\u001b[1;33m:\u001b[0m\u001b[1;33m\u001b[0m\u001b[1;33m\u001b[0m\u001b[0m\n",
      "\u001b[1;32mC:\\ProgramData\\Anaconda3\\lib\\site-packages\\scipy\\sparse\\base.py\u001b[0m in \u001b[0;36m__mul__\u001b[1;34m(self, other)\u001b[0m\n\u001b[0;32m    514\u001b[0m \u001b[1;33m\u001b[0m\u001b[0m\n\u001b[0;32m    515\u001b[0m             \u001b[1;32mif\u001b[0m \u001b[0mother\u001b[0m\u001b[1;33m.\u001b[0m\u001b[0mshape\u001b[0m\u001b[1;33m[\u001b[0m\u001b[1;36m0\u001b[0m\u001b[1;33m]\u001b[0m \u001b[1;33m!=\u001b[0m \u001b[0mself\u001b[0m\u001b[1;33m.\u001b[0m\u001b[0mshape\u001b[0m\u001b[1;33m[\u001b[0m\u001b[1;36m1\u001b[0m\u001b[1;33m]\u001b[0m\u001b[1;33m:\u001b[0m\u001b[1;33m\u001b[0m\u001b[1;33m\u001b[0m\u001b[0m\n\u001b[1;32m--> 516\u001b[1;33m                 \u001b[1;32mraise\u001b[0m \u001b[0mValueError\u001b[0m\u001b[1;33m(\u001b[0m\u001b[1;34m'dimension mismatch'\u001b[0m\u001b[1;33m)\u001b[0m\u001b[1;33m\u001b[0m\u001b[1;33m\u001b[0m\u001b[0m\n\u001b[0m\u001b[0;32m    517\u001b[0m \u001b[1;33m\u001b[0m\u001b[0m\n\u001b[0;32m    518\u001b[0m             \u001b[0mresult\u001b[0m \u001b[1;33m=\u001b[0m \u001b[0mself\u001b[0m\u001b[1;33m.\u001b[0m\u001b[0m_mul_multivector\u001b[0m\u001b[1;33m(\u001b[0m\u001b[0mnp\u001b[0m\u001b[1;33m.\u001b[0m\u001b[0masarray\u001b[0m\u001b[1;33m(\u001b[0m\u001b[0mother\u001b[0m\u001b[1;33m)\u001b[0m\u001b[1;33m)\u001b[0m\u001b[1;33m\u001b[0m\u001b[1;33m\u001b[0m\u001b[0m\n",
      "\u001b[1;31mValueError\u001b[0m: dimension mismatch"
     ]
    }
   ],
   "source": [
    "with open('model.pickle', 'rb') as f:\n",
    "    mlp = pickle.load(f)\n",
    "    \n",
    "with open('vectorizer.pickle', 'rb') as f:\n",
    "    vectorizer = pickle.load(f)\n",
    "    \n",
    "predictions=mlp.predict(vectorized_test)\n",
    "l = sorted(set(labels))\n",
    "print('Accuracy')\n",
    "accuracy = np.sum(predictions == test_labels) / len(test_labels)\n",
    "print(accuracy)\n",
    "print('Confusion Matrix and Classification Report')\n",
    "print(metrics.classification_report(test_labels, predictions, target_names=l))\n",
    "print(metrics.confusion_matrix(test_labels, predictions, labels=l))\n",
    "\n",
    "test1 = 'arının qaliblərinin mükafatlandırılması mərasimi keçirilib. Milli.Az Trend-ə istinadən bildirir ki, kişilər inci yeri Azərbaycan təmsilçisi Mixail Malkin, üçüncü yeri isə digər rusiyalı idmançı Maksim Ryabikov tutub. Qadınlar arasında qızıl və gümüş medallara ukraynalı gimnastlar Darina Kozyarska və Alina Mamçur sahib olublar. Həmçinin turnirdə ən yüksək icra xalını toplamış gimnastlara ənənəvi \"AGF Trophy\" Kuboku təqdim olunub. Bu mükafata Azərbaycan idmançısı Mixail Malkin və Çin təmsilçiləri Qianqi Lin və Syao Tu layiq görülüblər.'\n",
    "test2 = 'Məktəb direktorunu döyən \"Drakon\" ləqəbli aktyor Rza Rzayevə cinayət işi açılıb. Milli.Az musavat.com-a istinadən bildirir ki, Rza Rzayevə Nizami rayon Polis İdarəsinin İstintaq şöbəsində aparılan araşdırmadan sonra Cinayət Məcəlləsinin 221.3-cü (Xuliqanlıq, silahdan və ya silah qismində istifadə edilən əşyaları tətbiq etməklə törədildikdə) maddəsi ilə ittiham irəli sürülüb. Təqsirləndirilən şəxsin əməli sübuta yetirilərsə, onu üç ildən yeddi ilədək müddətə azadlıqdan məhrum etmə cəzası gözləyir. İş baxılması üçün aidiyyatı üzrə məhkəməyə göndərilib.'\n",
    "test3 = 'Usman Kuçkar dünyasını dəyişdi,\"  Tanınmış şair və tərcüməçi, Azərbaycan ədəbiyyatının yaxın dostu Usman Kuçkar dünyasını dəyişdi.O Azərbaycan ədəbiyyatinin ən yaxşı nümunələrinin tərcüməçisi kimi tanınırdı . Allah rəhmət eləsin'\n",
    "\n",
    "print(mlp.predict(vectorizer.transform([test1,test2,test3])))"
   ]
  },
  {
   "cell_type": "code",
   "execution_count": 1,
   "metadata": {
    "scrolled": true
   },
   "outputs": [
    {
     "ename": "NameError",
     "evalue": "name 'tk' is not defined",
     "output_type": "error",
     "traceback": [
      "\u001b[1;31m---------------------------------------------------------------------------\u001b[0m",
      "\u001b[1;31mNameError\u001b[0m                                 Traceback (most recent call last)",
      "\u001b[1;32m<ipython-input-1-36c084c38fb9>\u001b[0m in \u001b[0;36m<module>\u001b[1;34m\u001b[0m\n\u001b[1;32m----> 1\u001b[1;33m \u001b[1;32mclass\u001b[0m \u001b[0mSentimentApp\u001b[0m\u001b[1;33m(\u001b[0m\u001b[0mtk\u001b[0m\u001b[1;33m.\u001b[0m\u001b[0mFrame\u001b[0m\u001b[1;33m)\u001b[0m\u001b[1;33m:\u001b[0m\u001b[1;33m\u001b[0m\u001b[1;33m\u001b[0m\u001b[0m\n\u001b[0m\u001b[0;32m      2\u001b[0m     \u001b[0mAPP_TITLE\u001b[0m \u001b[1;33m=\u001b[0m \u001b[1;34m\"Sentiment App\"\u001b[0m\u001b[1;33m\u001b[0m\u001b[1;33m\u001b[0m\u001b[0m\n\u001b[0;32m      3\u001b[0m     \u001b[0mICON_FILE\u001b[0m \u001b[1;33m=\u001b[0m \u001b[1;34m\"question.ico\"\u001b[0m\u001b[1;33m\u001b[0m\u001b[1;33m\u001b[0m\u001b[0m\n\u001b[0;32m      4\u001b[0m     \u001b[0mPACK_FILL_EXPAND\u001b[0m \u001b[1;33m=\u001b[0m \u001b[1;33m{\u001b[0m\u001b[1;34m\"expand\"\u001b[0m\u001b[1;33m:\u001b[0m \u001b[1;32mTrue\u001b[0m\u001b[1;33m,\u001b[0m \u001b[1;34m\"fill\"\u001b[0m\u001b[1;33m:\u001b[0m \u001b[0mtk\u001b[0m\u001b[1;33m.\u001b[0m\u001b[0mBOTH\u001b[0m\u001b[1;33m}\u001b[0m\u001b[1;33m\u001b[0m\u001b[1;33m\u001b[0m\u001b[0m\n\u001b[0;32m      5\u001b[0m     \u001b[0mPLACE_MIDDLE\u001b[0m \u001b[1;33m=\u001b[0m \u001b[1;33m{\u001b[0m\u001b[1;34m\"anchor\"\u001b[0m\u001b[1;33m:\u001b[0m \u001b[0mtk\u001b[0m\u001b[1;33m.\u001b[0m\u001b[0mN\u001b[0m\u001b[1;33m,\u001b[0m \u001b[1;34m\"relx\"\u001b[0m\u001b[1;33m:\u001b[0m \u001b[1;36m0.5\u001b[0m\u001b[1;33m}\u001b[0m\u001b[1;33m\u001b[0m\u001b[1;33m\u001b[0m\u001b[0m\n",
      "\u001b[1;31mNameError\u001b[0m: name 'tk' is not defined"
     ]
    }
   ],
   "source": [
    "class SentimentApp(tk.Frame):\n",
    "    APP_TITLE = \"Sentiment App\"\n",
    "    ICON_FILE = \"question.ico\"\n",
    "    PACK_FILL_EXPAND = {\"expand\": True, \"fill\": tk.BOTH}\n",
    "    PLACE_MIDDLE = {\"anchor\": tk.N, \"relx\": 0.5}\n",
    "    TRANSLATE = {\"positive\": \"pozitiv\", \"negative\": \"neqativ\"}\n",
    "    TEXTFONT = (\"Arial\", 12)\n",
    "    APP_BACKGROUND = \"#6D6F90\"\n",
    "    HEADER_TEXT = \"Aşağıdakı qutuya mətn girin və onun pozitiv və ya neqativ olduğunu öyrənin!\"\n",
    "\n",
    "    def __init__(self, master):\n",
    "        super().__init__(master)\n",
    "        self.master = master\n",
    "        self.pack(**SentimentApp.PACK_FILL_EXPAND)\n",
    "        self.configure_master()\n",
    "        self.configure_styling()\n",
    "        self.create_widgets()\n",
    "\n",
    "    def configure_master(self):\n",
    "        self.master.title(SentimentApp.APP_TITLE)\n",
    "        self.master.iconbitmap(SentimentApp.ICON_FILE)\n",
    "        self.master.geometry(\"600x600\")\n",
    "        self.master.resizable(False, False)\n",
    "\n",
    "    def configure_styling(self):\n",
    "        self.style = ttk.Style()\n",
    "        self.style.theme_use(\"clam\")\n",
    "        self.style.configure(\"TButton\", font=SentimentApp.TEXTFONT)\n",
    "        self.style.configure(\"TLabel\", font=SentimentApp.TEXTFONT, background=SentimentApp.APP_BACKGROUND)\n",
    "\n",
    "    def create_widgets(self):\n",
    "        self.mainframe = tk.LabelFrame(self, bg=SentimentApp.APP_BACKGROUND)\n",
    "        self.mainframe.place(relx=0, rely=0, relheight=1, relwidth=1)\n",
    "\n",
    "        self.header = ttk.Label(self.mainframe, text=SentimentApp.HEADER_TEXT)\n",
    "        self.header.place(**SentimentApp.PLACE_MIDDLE, rely=0.2)\n",
    "\n",
    "        self.sc_y = ttk.Scrollbar(self.mainframe, orient=tk.VERTICAL)\n",
    "        self.text_input = tk.Text(self.mainframe, width=52, height=10, yscrollcommand=self.sc_y.set, font=SentimentApp.TEXTFONT)\n",
    "        self.sc_y.config(command=self.text_input.yview)\n",
    "        self.sc_y.place(relx=0.8984, rely=0.40016, relheight=0.308)\n",
    "        self.text_input.place(**SentimentApp.PLACE_MIDDLE, rely=0.4)\n",
    "\n",
    "        self.submit_button = self.label_button = ttk.Button(self.mainframe, takefocus=0, text=\"Submit\",\n",
    "                                                            command=self.determine_text_sentiment)\n",
    "        self.submit_button.place(**SentimentApp.PLACE_MIDDLE, rely=0.8)\n",
    "\n",
    "    def determine_text_sentiment(self):\n",
    "        user_input = self.text_input.get(\"1.0\", tk.END)\n",
    "        with open('model.pickle', 'rb') as f:\n",
    "            mlp = pickle.load(f)\n",
    "        result = mlp.predict(vectorizer.transform([user_input]))\n",
    "        messagebox.showinfo(\"Nəticə\", f\"Sizin xəbərinizin tipi: {SentimentApp.TRANSLATE[result[0]]}\")\n",
    "\n",
    "\n",
    "def main():\n",
    "    root = tk.Tk()\n",
    "    app = SentimentApp(root)\n",
    "    app.mainloop()\n",
    "\n",
    "\n",
    "if __name__ == \"__main__\":\n",
    "    main()"
   ]
  },
  {
   "cell_type": "markdown",
   "metadata": {},
   "source": [
    "Neqativ xəbər nümunəsi:\n",
    "\n",
    "Bu gün Tbilisinin Lilo qəsəbəsində yaşayış binasında partlayış olub.\n",
    "\n",
    "APA-nın “Mtavari” telekanalına istinadən verdiyi məlumata görə, Tenqiz küçəsindəki binada baş verən partlayış nəticəsində 65 yaşlı qadın ölüb.\n",
    "\n",
    "Binanın dördüncü mərtəbəsindəki mənzildə baş verən partlayış zamanı partlayış dalğası eyvanın qapısını çıxarıb, evin sahibi dördüncü mərtəbədən yerə düşüb O, aldığı travmalardan hadisə yerində ölüb."
   ]
  },
  {
   "cell_type": "markdown",
   "metadata": {},
   "source": [
    "Pozitiv xəbər nümunəsi:\n",
    "\n",
    "Azərbaycan millisinin futbolçusu Ramil Şeydayev uzun fasilədən sonra Premyer Liqada start heyətində yer alıb.\n",
    "\n",
    "Apasport.az saytının məlumatına görə, hücumçu “Sabah”ın “Qəbələ” ilə bugünkü qarşılaşmasına “11-lik”də başlayacaq.\n",
    "\n",
    "XXI turun bu matçı ilə Ramilin start heyəti həsrəti bitəcək. O, sonuncu dəfə 147 gün öncə ilk dəqiqələrdən meydana çıxıb.\n"
   ]
  },
  {
   "cell_type": "code",
   "execution_count": null,
   "metadata": {
    "scrolled": true
   },
   "outputs": [],
   "source": []
  }
 ],
 "metadata": {
  "kernelspec": {
   "display_name": "Python 3",
   "language": "python",
   "name": "python3"
  },
  "language_info": {
   "codemirror_mode": {
    "name": "ipython",
    "version": 3
   },
   "file_extension": ".py",
   "mimetype": "text/x-python",
   "name": "python",
   "nbconvert_exporter": "python",
   "pygments_lexer": "ipython3",
   "version": "3.8.3"
  }
 },
 "nbformat": 4,
 "nbformat_minor": 2
}
