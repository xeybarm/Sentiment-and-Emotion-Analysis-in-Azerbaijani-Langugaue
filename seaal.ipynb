{
 "cells": [
  {
   "cell_type": "code",
   "execution_count": 1,
   "metadata": {
    "scrolled": true
   },
   "outputs": [],
   "source": [
    "import pandas as pd\n",
    "import numpy as np\n",
    "\n",
    "from sklearn.model_selection import train_test_split\n",
    "from sklearn.feature_extraction.text import CountVectorizer\n",
    "from sklearn.svm import LinearSVC\n",
    "from sklearn import metrics\n",
    "from sklearn.neural_network import MLPClassifier\n",
    "\n",
    "import pickle\n",
    "import tkinter as tk\n",
    "from tkinter import ttk\n",
    "from tkinter import messagebox\n",
    "\n",
    "vectorizer = CountVectorizer() "
   ]
  },
  {
   "cell_type": "code",
   "execution_count": 2,
   "metadata": {
    "scrolled": true
   },
   "outputs": [
    {
     "name": "stderr",
     "output_type": "stream",
     "text": [
      "C:\\Users\\Owner\\anaconda3\\lib\\site-packages\\IPython\\core\\interactiveshell.py:3071: DtypeWarning: Columns (2) have mixed types.Specify dtype option on import or set low_memory=False.\n",
      "  has_raised = await self.run_ast_nodes(code_ast.body, cell_name,\n"
     ]
    },
    {
     "name": "stdout",
     "output_type": "stream",
     "text": [
      "<class 'numpy.ndarray'>\n",
      "<class 'numpy.ndarray'>\n"
     ]
    },
    {
     "data": {
      "text/plain": [
       "array([['negative'],\n",
       "       ['negative'],\n",
       "       ['negative'],\n",
       "       ...,\n",
       "       ['positive'],\n",
       "       ['positive'],\n",
       "       ['positive']], dtype='<U8')"
      ]
     },
     "execution_count": 2,
     "metadata": {},
     "output_type": "execute_result"
    }
   ],
   "source": [
    "news1 = pd.read_csv(\"1-8000.csv\")\n",
    "neg1 = news1[news1.label == 'neg']\n",
    "pos1 = news1[news1.label == 'pos']\n",
    "\n",
    "news2 = pd.read_csv(\"8001-end.csv\")\n",
    "neg2 = news2[news2.mlabel == 'neg']\n",
    "pos2 = news2[news2.mlabel == 'pos']\n",
    "\n",
    "news3 = pd.read_csv(\"all_final.csv\")\n",
    "neg3 = news3[news3.V2 == 'neg']\n",
    "pos3 = news3[news3.V2 == 'pos']\n",
    "neut=news3[news3.V2 == 'neut']\n",
    "\n",
    "negative = list(neg1.content) + list(neg2.content) + list(neg3.V1)\n",
    "positive = list(pos1.content) + list(pos2.content) + list(pos3.V1)\n",
    "\n",
    "mylist1 = list(dict.fromkeys(negative))\n",
    "mylist2 = list(dict.fromkeys(positive))\n",
    "\n",
    "neglabels = ['negative' for l in range(len(mylist1))]\n",
    "poslabels = ['positive' for l in range(len(mylist2))]\n",
    "\n",
    "news = mylist1 + mylist2\n",
    "labels = neglabels + poslabels\n",
    "\n",
    "news=np.array(news)\n",
    "labels=np.array(labels)\n",
    "\n",
    "print(type(news))\n",
    "print(type(labels))\n",
    "train_corpus, test_corpus, train_labels, test_labels = train_test_split(news, labels,test_size=0.2)\n",
    "\n",
    "labels.reshape(-1,1)"
   ]
  },
  {
   "cell_type": "code",
   "execution_count": 3,
   "metadata": {
    "scrolled": true
   },
   "outputs": [],
   "source": [
    "vectorized_train = vectorizer.fit_transform(train_corpus)\n",
    "vectorized_test = vectorizer.transform(test_corpus)"
   ]
  },
  {
   "cell_type": "code",
   "execution_count": 4,
   "metadata": {
    "scrolled": true
   },
   "outputs": [
    {
     "data": {
      "text/plain": [
       "(2485, 94647)"
      ]
     },
     "execution_count": 4,
     "metadata": {},
     "output_type": "execute_result"
    }
   ],
   "source": [
    "vectorized_test.shape"
   ]
  },
  {
   "cell_type": "code",
   "execution_count": 5,
   "metadata": {
    "scrolled": true
   },
   "outputs": [
    {
     "data": {
      "text/plain": [
       "MLPClassifier()"
      ]
     },
     "execution_count": 5,
     "metadata": {},
     "output_type": "execute_result"
    }
   ],
   "source": [
    "mlp=MLPClassifier()\n",
    "mlp.fit(vectorized_train,train_labels)"
   ]
  },
  {
   "cell_type": "code",
   "execution_count": 6,
   "metadata": {
    "scrolled": true
   },
   "outputs": [],
   "source": [
    "with open('model.pickle', 'wb') as f:\n",
    "    pickle.dump(mlp, f)\n",
    "    \n",
    "with open('vectorizer.pickle', 'wb') as f:\n",
    "    pickle.dump(vectorizer, f)"
   ]
  },
  {
   "cell_type": "code",
   "execution_count": 7,
   "metadata": {
    "scrolled": true
   },
   "outputs": [
    {
     "name": "stdout",
     "output_type": "stream",
     "text": [
      "Accuracy\n",
      "0.9484909456740442\n",
      "Confusion Matrix and Classification Report\n",
      "              precision    recall  f1-score   support\n",
      "\n",
      "    negative       0.96      0.96      0.96      1555\n",
      "    positive       0.93      0.93      0.93       930\n",
      "\n",
      "    accuracy                           0.95      2485\n",
      "   macro avg       0.95      0.94      0.94      2485\n",
      "weighted avg       0.95      0.95      0.95      2485\n",
      "\n",
      "[[1492   63]\n",
      " [  65  865]]\n",
      "['positive' 'negative' 'negative']\n"
     ]
    }
   ],
   "source": [
    "with open('model.pickle', 'rb') as f:\n",
    "    mlp = pickle.load(f)\n",
    "    \n",
    "with open('vectorizer.pickle', 'rb') as f:\n",
    "    vectorizer = pickle.load(f)\n",
    "    \n",
    "predictions=mlp.predict(vectorized_test)\n",
    "l = sorted(set(labels))\n",
    "print('Accuracy')\n",
    "accuracy = np.sum(predictions == test_labels) / len(test_labels)\n",
    "print(accuracy)\n",
    "print('Confusion Matrix and Classification Report')\n",
    "print(metrics.classification_report(test_labels, predictions, target_names=l))\n",
    "print(metrics.confusion_matrix(test_labels, predictions, labels=l))\n",
    "\n",
    "test1 = 'arının qaliblərinin mükafatlandırılması mərasimi keçirilib. Milli.Az Trend-ə istinadən bildirir ki, kişilər inci yeri Azərbaycan təmsilçisi Mixail Malkin, üçüncü yeri isə digər rusiyalı idmançı Maksim Ryabikov tutub. Qadınlar arasında qızıl və gümüş medallara ukraynalı gimnastlar Darina Kozyarska və Alina Mamçur sahib olublar. Həmçinin turnirdə ən yüksək icra xalını toplamış gimnastlara ənənəvi \"AGF Trophy\" Kuboku təqdim olunub. Bu mükafata Azərbaycan idmançısı Mixail Malkin və Çin təmsilçiləri Qianqi Lin və Syao Tu layiq görülüblər.'\n",
    "test2 = 'Məktəb direktorunu döyən \"Drakon\" ləqəbli aktyor Rza Rzayevə cinayət işi açılıb. Milli.Az musavat.com-a istinadən bildirir ki, Rza Rzayevə Nizami rayon Polis İdarəsinin İstintaq şöbəsində aparılan araşdırmadan sonra Cinayət Məcəlləsinin 221.3-cü (Xuliqanlıq, silahdan və ya silah qismində istifadə edilən əşyaları tətbiq etməklə törədildikdə) maddəsi ilə ittiham irəli sürülüb. Təqsirləndirilən şəxsin əməli sübuta yetirilərsə, onu üç ildən yeddi ilədək müddətə azadlıqdan məhrum etmə cəzası gözləyir. İş baxılması üçün aidiyyatı üzrə məhkəməyə göndərilib.'\n",
    "test3 = 'Usman Kuçkar dünyasını dəyişdi,\"  Tanınmış şair və tərcüməçi, Azərbaycan ədəbiyyatının yaxın dostu Usman Kuçkar dünyasını dəyişdi.O Azərbaycan ədəbiyyatinin ən yaxşı nümunələrinin tərcüməçisi kimi tanınırdı . Allah rəhmət eləsin'\n",
    "\n",
    "print(mlp.predict(vectorizer.transform([test1,test2,test3])))"
   ]
  },
  {
   "cell_type": "code",
   "execution_count": 8,
   "metadata": {
    "scrolled": true
   },
   "outputs": [],
   "source": [
    "class SentimentApp(tk.Frame):\n",
    "    APP_TITLE = \"Sentiment App\"\n",
    "    ICON_FILE = \"question.ico\"\n",
    "    PACK_FILL_EXPAND = {\"expand\": True, \"fill\": tk.BOTH}\n",
    "    PLACE_MIDDLE = {\"anchor\": tk.N, \"relx\": 0.5}\n",
    "    TRANSLATE = {\"positive\": \"pozitiv\", \"negative\": \"neqativ\"}\n",
    "    TEXTFONT = (\"Arial\", 12)\n",
    "    APP_BACKGROUND = \"#6D6F90\"\n",
    "    HEADER_TEXT = \"Aşağıdakı qutuya mətn girin və onun pozitiv və ya neqativ olduğunu öyrənin!\"\n",
    "\n",
    "    def __init__(self, master):\n",
    "        super().__init__(master)\n",
    "        self.master = master\n",
    "        self.pack(**SentimentApp.PACK_FILL_EXPAND)\n",
    "        self.configure_master()\n",
    "        self.configure_styling()\n",
    "        self.create_widgets()\n",
    "\n",
    "    def configure_master(self):\n",
    "        self.master.title(SentimentApp.APP_TITLE)\n",
    "        self.master.iconbitmap(SentimentApp.ICON_FILE)\n",
    "        self.master.geometry(\"600x600\")\n",
    "        self.master.resizable(False, False)\n",
    "\n",
    "    def configure_styling(self):\n",
    "        self.style = ttk.Style()\n",
    "        self.style.theme_use(\"clam\")\n",
    "        self.style.configure(\"TButton\", font=SentimentApp.TEXTFONT)\n",
    "        self.style.configure(\"TLabel\", font=SentimentApp.TEXTFONT, background=SentimentApp.APP_BACKGROUND)\n",
    "\n",
    "    def create_widgets(self):\n",
    "        self.mainframe = tk.LabelFrame(self, bg=SentimentApp.APP_BACKGROUND)\n",
    "        self.mainframe.place(relx=0, rely=0, relheight=1, relwidth=1)\n",
    "\n",
    "        self.header = ttk.Label(self.mainframe, text=SentimentApp.HEADER_TEXT)\n",
    "        self.header.place(**SentimentApp.PLACE_MIDDLE, rely=0.2)\n",
    "\n",
    "        self.sc_y = ttk.Scrollbar(self.mainframe, orient=tk.VERTICAL)\n",
    "        self.text_input = tk.Text(self.mainframe, width=52, height=10, yscrollcommand=self.sc_y.set, font=SentimentApp.TEXTFONT)\n",
    "        self.sc_y.config(command=self.text_input.yview)\n",
    "        self.sc_y.place(relx=0.8984, rely=0.40016, relheight=0.308)\n",
    "        self.text_input.place(**SentimentApp.PLACE_MIDDLE, rely=0.4)\n",
    "\n",
    "        self.submit_button = self.label_button = ttk.Button(self.mainframe, takefocus=0, text=\"Submit\",\n",
    "                                                            command=self.determine_text_sentiment)\n",
    "        self.submit_button.place(**SentimentApp.PLACE_MIDDLE, rely=0.8)\n",
    "\n",
    "    def determine_text_sentiment(self):\n",
    "        user_input = self.text_input.get(\"1.0\", tk.END)\n",
    "        with open('model.pickle', 'rb') as f:\n",
    "            mlp = pickle.load(f)\n",
    "        result = mlp.predict(vectorizer.transform([user_input]))\n",
    "        messagebox.showinfo(\"Nəticə\", f\"Sizin xəbərinizin tipi: {SentimentApp.TRANSLATE[result[0]]}\")\n",
    "\n",
    "\n",
    "def main():\n",
    "    root = tk.Tk()\n",
    "    app = SentimentApp(root)\n",
    "    app.mainloop()\n",
    "\n",
    "\n",
    "if __name__ == \"__main__\":\n",
    "    main()"
   ]
  },
  {
   "cell_type": "markdown",
   "metadata": {},
   "source": [
    "Neqativ xəbər nümunəsi:\n",
    "\n",
    "Bu gün Tbilisinin Lilo qəsəbəsində yaşayış binasında partlayış olub.\n",
    "\n",
    "APA-nın “Mtavari” telekanalına istinadən verdiyi məlumata görə, Tenqiz küçəsindəki binada baş verən partlayış nəticəsində 65 yaşlı qadın ölüb.\n",
    "\n",
    "Binanın dördüncü mərtəbəsindəki mənzildə baş verən partlayış zamanı partlayış dalğası eyvanın qapısını çıxarıb, evin sahibi dördüncü mərtəbədən yerə düşüb O, aldığı travmalardan hadisə yerində ölüb."
   ]
  },
  {
   "cell_type": "markdown",
   "metadata": {},
   "source": [
    "Pozitiv xəbər nümunəsi:\n",
    "\n",
    "Azərbaycan millisinin futbolçusu Ramil Şeydayev uzun fasilədən sonra Premyer Liqada start heyətində yer alıb.\n",
    "\n",
    "Apasport.az saytının məlumatına görə, hücumçu “Sabah”ın “Qəbələ” ilə bugünkü qarşılaşmasına “11-lik”də başlayacaq.\n",
    "\n",
    "XXI turun bu matçı ilə Ramilin start heyəti həsrəti bitəcək. O, sonuncu dəfə 147 gün öncə ilk dəqiqələrdən meydana çıxıb.\n"
   ]
  },
  {
   "cell_type": "code",
   "execution_count": null,
   "metadata": {
    "scrolled": true
   },
   "outputs": [],
   "source": []
  },
  {
   "cell_type": "code",
   "execution_count": null,
   "metadata": {},
   "outputs": [],
   "source": []
  }
 ],
 "metadata": {
  "kernelspec": {
   "display_name": "Python 3",
   "language": "python",
   "name": "python3"
  },
  "language_info": {
   "codemirror_mode": {
    "name": "ipython",
    "version": 3
   },
   "file_extension": ".py",
   "mimetype": "text/x-python",
   "name": "python",
   "nbconvert_exporter": "python",
   "pygments_lexer": "ipython3",
   "version": "3.8.3"
  }
 },
 "nbformat": 4,
 "nbformat_minor": 2
}
